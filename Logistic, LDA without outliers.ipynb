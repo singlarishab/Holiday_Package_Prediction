{
 "cells": [
  {
   "cell_type": "code",
   "execution_count": 99,
   "id": "781a2786",
   "metadata": {},
   "outputs": [],
   "source": [
    "import numpy as np\n",
    "import pandas as pd\n",
    "import matplotlib.pyplot as plt   \n",
    "import seaborn as sns\n",
    "from sklearn.model_selection import train_test_split,GridSearchCV\n",
    "from sklearn.linear_model import LogisticRegression\n",
    "from sklearn import metrics\n",
    "from sklearn.metrics import roc_auc_score,roc_curve,classification_report,confusion_matrix,plot_confusion_matrix"
   ]
  },
  {
   "cell_type": "code",
   "execution_count": 100,
   "id": "03c622ca",
   "metadata": {},
   "outputs": [],
   "source": [
    "df=pd.read_csv('Holiday_Package.csv')"
   ]
  },
  {
   "cell_type": "code",
   "execution_count": 101,
   "id": "48c88b60",
   "metadata": {},
   "outputs": [
    {
     "data": {
      "text/html": [
       "<div>\n",
       "<style scoped>\n",
       "    .dataframe tbody tr th:only-of-type {\n",
       "        vertical-align: middle;\n",
       "    }\n",
       "\n",
       "    .dataframe tbody tr th {\n",
       "        vertical-align: top;\n",
       "    }\n",
       "\n",
       "    .dataframe thead th {\n",
       "        text-align: right;\n",
       "    }\n",
       "</style>\n",
       "<table border=\"1\" class=\"dataframe\">\n",
       "  <thead>\n",
       "    <tr style=\"text-align: right;\">\n",
       "      <th></th>\n",
       "      <th>Unnamed: 0</th>\n",
       "      <th>Holliday_Package</th>\n",
       "      <th>Salary</th>\n",
       "      <th>age</th>\n",
       "      <th>educ</th>\n",
       "      <th>no_young_children</th>\n",
       "      <th>no_older_children</th>\n",
       "      <th>foreign</th>\n",
       "    </tr>\n",
       "  </thead>\n",
       "  <tbody>\n",
       "    <tr>\n",
       "      <th>0</th>\n",
       "      <td>1</td>\n",
       "      <td>no</td>\n",
       "      <td>48412</td>\n",
       "      <td>30</td>\n",
       "      <td>8</td>\n",
       "      <td>1</td>\n",
       "      <td>1</td>\n",
       "      <td>no</td>\n",
       "    </tr>\n",
       "    <tr>\n",
       "      <th>1</th>\n",
       "      <td>2</td>\n",
       "      <td>yes</td>\n",
       "      <td>37207</td>\n",
       "      <td>45</td>\n",
       "      <td>8</td>\n",
       "      <td>0</td>\n",
       "      <td>1</td>\n",
       "      <td>no</td>\n",
       "    </tr>\n",
       "    <tr>\n",
       "      <th>2</th>\n",
       "      <td>3</td>\n",
       "      <td>no</td>\n",
       "      <td>58022</td>\n",
       "      <td>46</td>\n",
       "      <td>9</td>\n",
       "      <td>0</td>\n",
       "      <td>0</td>\n",
       "      <td>no</td>\n",
       "    </tr>\n",
       "    <tr>\n",
       "      <th>3</th>\n",
       "      <td>4</td>\n",
       "      <td>no</td>\n",
       "      <td>66503</td>\n",
       "      <td>31</td>\n",
       "      <td>11</td>\n",
       "      <td>2</td>\n",
       "      <td>0</td>\n",
       "      <td>no</td>\n",
       "    </tr>\n",
       "    <tr>\n",
       "      <th>4</th>\n",
       "      <td>5</td>\n",
       "      <td>no</td>\n",
       "      <td>66734</td>\n",
       "      <td>44</td>\n",
       "      <td>12</td>\n",
       "      <td>0</td>\n",
       "      <td>2</td>\n",
       "      <td>no</td>\n",
       "    </tr>\n",
       "  </tbody>\n",
       "</table>\n",
       "</div>"
      ],
      "text/plain": [
       "   Unnamed: 0 Holliday_Package  Salary  age  educ  no_young_children  \\\n",
       "0           1               no   48412   30     8                  1   \n",
       "1           2              yes   37207   45     8                  0   \n",
       "2           3               no   58022   46     9                  0   \n",
       "3           4               no   66503   31    11                  2   \n",
       "4           5               no   66734   44    12                  0   \n",
       "\n",
       "   no_older_children foreign  \n",
       "0                  1      no  \n",
       "1                  1      no  \n",
       "2                  0      no  \n",
       "3                  0      no  \n",
       "4                  2      no  "
      ]
     },
     "execution_count": 101,
     "metadata": {},
     "output_type": "execute_result"
    }
   ],
   "source": [
    "df.head()"
   ]
  },
  {
   "cell_type": "code",
   "execution_count": 102,
   "id": "70d33b40",
   "metadata": {},
   "outputs": [],
   "source": [
    "df.drop('Unnamed: 0',axis=1,inplace=True)"
   ]
  },
  {
   "cell_type": "code",
   "execution_count": 103,
   "id": "484e360e",
   "metadata": {},
   "outputs": [
    {
     "name": "stdout",
     "output_type": "stream",
     "text": [
      "<class 'pandas.core.frame.DataFrame'>\n",
      "RangeIndex: 872 entries, 0 to 871\n",
      "Data columns (total 7 columns):\n",
      " #   Column             Non-Null Count  Dtype \n",
      "---  ------             --------------  ----- \n",
      " 0   Holliday_Package   872 non-null    object\n",
      " 1   Salary             872 non-null    int64 \n",
      " 2   age                872 non-null    int64 \n",
      " 3   educ               872 non-null    int64 \n",
      " 4   no_young_children  872 non-null    int64 \n",
      " 5   no_older_children  872 non-null    int64 \n",
      " 6   foreign            872 non-null    object\n",
      "dtypes: int64(5), object(2)\n",
      "memory usage: 47.8+ KB\n"
     ]
    }
   ],
   "source": [
    "df.info()"
   ]
  },
  {
   "cell_type": "code",
   "execution_count": 104,
   "id": "f4827cb2",
   "metadata": {},
   "outputs": [],
   "source": [
    "def remove_outlier(col):\n",
    "    sorted(col)\n",
    "    Q1,Q3=np.percentile(col,[25,75])\n",
    "    IQR=Q3-Q1\n",
    "    lower_range= Q1-(1.5 * IQR)\n",
    "    upper_range= Q3+(1.5 * IQR)\n",
    "    return lower_range, upper_range"
   ]
  },
  {
   "cell_type": "code",
   "execution_count": 105,
   "id": "bba1c574",
   "metadata": {},
   "outputs": [],
   "source": [
    "cont=df.dtypes[(df.dtypes!='uint8') & (df.dtypes!='object')].index"
   ]
  },
  {
   "cell_type": "code",
   "execution_count": 106,
   "id": "71cbb57a",
   "metadata": {},
   "outputs": [
    {
     "data": {
      "text/html": [
       "<div>\n",
       "<style scoped>\n",
       "    .dataframe tbody tr th:only-of-type {\n",
       "        vertical-align: middle;\n",
       "    }\n",
       "\n",
       "    .dataframe tbody tr th {\n",
       "        vertical-align: top;\n",
       "    }\n",
       "\n",
       "    .dataframe thead th {\n",
       "        text-align: right;\n",
       "    }\n",
       "</style>\n",
       "<table border=\"1\" class=\"dataframe\">\n",
       "  <thead>\n",
       "    <tr style=\"text-align: right;\">\n",
       "      <th></th>\n",
       "      <th>Salary</th>\n",
       "      <th>age</th>\n",
       "      <th>educ</th>\n",
       "      <th>no_young_children</th>\n",
       "      <th>no_older_children</th>\n",
       "    </tr>\n",
       "  </thead>\n",
       "  <tbody>\n",
       "    <tr>\n",
       "      <th>0</th>\n",
       "      <td>48412</td>\n",
       "      <td>30</td>\n",
       "      <td>8</td>\n",
       "      <td>1</td>\n",
       "      <td>1</td>\n",
       "    </tr>\n",
       "    <tr>\n",
       "      <th>1</th>\n",
       "      <td>37207</td>\n",
       "      <td>45</td>\n",
       "      <td>8</td>\n",
       "      <td>0</td>\n",
       "      <td>1</td>\n",
       "    </tr>\n",
       "    <tr>\n",
       "      <th>2</th>\n",
       "      <td>58022</td>\n",
       "      <td>46</td>\n",
       "      <td>9</td>\n",
       "      <td>0</td>\n",
       "      <td>0</td>\n",
       "    </tr>\n",
       "    <tr>\n",
       "      <th>3</th>\n",
       "      <td>66503</td>\n",
       "      <td>31</td>\n",
       "      <td>11</td>\n",
       "      <td>2</td>\n",
       "      <td>0</td>\n",
       "    </tr>\n",
       "    <tr>\n",
       "      <th>4</th>\n",
       "      <td>66734</td>\n",
       "      <td>44</td>\n",
       "      <td>12</td>\n",
       "      <td>0</td>\n",
       "      <td>2</td>\n",
       "    </tr>\n",
       "    <tr>\n",
       "      <th>...</th>\n",
       "      <td>...</td>\n",
       "      <td>...</td>\n",
       "      <td>...</td>\n",
       "      <td>...</td>\n",
       "      <td>...</td>\n",
       "    </tr>\n",
       "    <tr>\n",
       "      <th>867</th>\n",
       "      <td>40030</td>\n",
       "      <td>24</td>\n",
       "      <td>4</td>\n",
       "      <td>2</td>\n",
       "      <td>1</td>\n",
       "    </tr>\n",
       "    <tr>\n",
       "      <th>868</th>\n",
       "      <td>32137</td>\n",
       "      <td>48</td>\n",
       "      <td>8</td>\n",
       "      <td>0</td>\n",
       "      <td>0</td>\n",
       "    </tr>\n",
       "    <tr>\n",
       "      <th>869</th>\n",
       "      <td>25178</td>\n",
       "      <td>24</td>\n",
       "      <td>6</td>\n",
       "      <td>2</td>\n",
       "      <td>0</td>\n",
       "    </tr>\n",
       "    <tr>\n",
       "      <th>870</th>\n",
       "      <td>55958</td>\n",
       "      <td>41</td>\n",
       "      <td>10</td>\n",
       "      <td>0</td>\n",
       "      <td>1</td>\n",
       "    </tr>\n",
       "    <tr>\n",
       "      <th>871</th>\n",
       "      <td>74659</td>\n",
       "      <td>51</td>\n",
       "      <td>10</td>\n",
       "      <td>0</td>\n",
       "      <td>0</td>\n",
       "    </tr>\n",
       "  </tbody>\n",
       "</table>\n",
       "<p>872 rows × 5 columns</p>\n",
       "</div>"
      ],
      "text/plain": [
       "     Salary  age  educ  no_young_children  no_older_children\n",
       "0     48412   30     8                  1                  1\n",
       "1     37207   45     8                  0                  1\n",
       "2     58022   46     9                  0                  0\n",
       "3     66503   31    11                  2                  0\n",
       "4     66734   44    12                  0                  2\n",
       "..      ...  ...   ...                ...                ...\n",
       "867   40030   24     4                  2                  1\n",
       "868   32137   48     8                  0                  0\n",
       "869   25178   24     6                  2                  0\n",
       "870   55958   41    10                  0                  1\n",
       "871   74659   51    10                  0                  0\n",
       "\n",
       "[872 rows x 5 columns]"
      ]
     },
     "execution_count": 106,
     "metadata": {},
     "output_type": "execute_result"
    }
   ],
   "source": [
    "df[cont]"
   ]
  },
  {
   "cell_type": "code",
   "execution_count": 107,
   "id": "c96dfc6c",
   "metadata": {},
   "outputs": [],
   "source": [
    "lr,ur=remove_outlier(df['Salary'])\n",
    "df['Salary']=np.where(df['Salary']>ur,ur,df['Salary'])\n",
    "df['Salary']=np.where(df['Salary']<lr,lr,df['Salary'])\n"
   ]
  },
  {
   "cell_type": "code",
   "execution_count": 108,
   "id": "d35a2767",
   "metadata": {},
   "outputs": [
    {
     "data": {
      "text/plain": [
       "<AxesSubplot:>"
      ]
     },
     "execution_count": 108,
     "metadata": {},
     "output_type": "execute_result"
    },
    {
     "data": {
      "image/png": "[encoded data removed]",
      "text/plain": [
       "<Figure size 864x504 with 1 Axes>"
      ]
     },
     "metadata": {
      "needs_background": "light"
     },
     "output_type": "display_data"
    }
   ],
   "source": [
    "df.boxplot(figsize=(12,7))"
   ]
  },
  {
   "cell_type": "code",
   "execution_count": 109,
   "id": "455d6a7c",
   "metadata": {},
   "outputs": [],
   "source": [
    "from sklearn.preprocessing import LabelEncoder\n",
    "LE=LabelEncoder()"
   ]
  },
  {
   "cell_type": "code",
   "execution_count": 110,
   "id": "5dcc1920",
   "metadata": {},
   "outputs": [
    {
     "data": {
      "text/html": [
       "<div>\n",
       "<style scoped>\n",
       "    .dataframe tbody tr th:only-of-type {\n",
       "        vertical-align: middle;\n",
       "    }\n",
       "\n",
       "    .dataframe tbody tr th {\n",
       "        vertical-align: top;\n",
       "    }\n",
       "\n",
       "    .dataframe thead th {\n",
       "        text-align: right;\n",
       "    }\n",
       "</style>\n",
       "<table border=\"1\" class=\"dataframe\">\n",
       "  <thead>\n",
       "    <tr style=\"text-align: right;\">\n",
       "      <th></th>\n",
       "      <th>Holliday_Package</th>\n",
       "      <th>Salary</th>\n",
       "      <th>age</th>\n",
       "      <th>educ</th>\n",
       "      <th>no_young_children</th>\n",
       "      <th>no_older_children</th>\n",
       "      <th>foreign</th>\n",
       "    </tr>\n",
       "  </thead>\n",
       "  <tbody>\n",
       "    <tr>\n",
       "      <th>0</th>\n",
       "      <td>0</td>\n",
       "      <td>48412.0</td>\n",
       "      <td>30</td>\n",
       "      <td>8</td>\n",
       "      <td>1</td>\n",
       "      <td>1</td>\n",
       "      <td>0</td>\n",
       "    </tr>\n",
       "    <tr>\n",
       "      <th>1</th>\n",
       "      <td>1</td>\n",
       "      <td>37207.0</td>\n",
       "      <td>45</td>\n",
       "      <td>8</td>\n",
       "      <td>0</td>\n",
       "      <td>1</td>\n",
       "      <td>0</td>\n",
       "    </tr>\n",
       "    <tr>\n",
       "      <th>2</th>\n",
       "      <td>0</td>\n",
       "      <td>58022.0</td>\n",
       "      <td>46</td>\n",
       "      <td>9</td>\n",
       "      <td>0</td>\n",
       "      <td>0</td>\n",
       "      <td>0</td>\n",
       "    </tr>\n",
       "    <tr>\n",
       "      <th>3</th>\n",
       "      <td>0</td>\n",
       "      <td>66503.0</td>\n",
       "      <td>31</td>\n",
       "      <td>11</td>\n",
       "      <td>2</td>\n",
       "      <td>0</td>\n",
       "      <td>0</td>\n",
       "    </tr>\n",
       "    <tr>\n",
       "      <th>4</th>\n",
       "      <td>0</td>\n",
       "      <td>66734.0</td>\n",
       "      <td>44</td>\n",
       "      <td>12</td>\n",
       "      <td>0</td>\n",
       "      <td>2</td>\n",
       "      <td>0</td>\n",
       "    </tr>\n",
       "  </tbody>\n",
       "</table>\n",
       "</div>"
      ],
      "text/plain": [
       "   Holliday_Package   Salary  age  educ  no_young_children  no_older_children  \\\n",
       "0                 0  48412.0   30     8                  1                  1   \n",
       "1                 1  37207.0   45     8                  0                  1   \n",
       "2                 0  58022.0   46     9                  0                  0   \n",
       "3                 0  66503.0   31    11                  2                  0   \n",
       "4                 0  66734.0   44    12                  0                  2   \n",
       "\n",
       "   foreign  \n",
       "0        0  \n",
       "1        0  \n",
       "2        0  \n",
       "3        0  \n",
       "4        0  "
      ]
     },
     "execution_count": 110,
     "metadata": {},
     "output_type": "execute_result"
    }
   ],
   "source": [
    "df['foreign']=LE.fit_transform(df['foreign'])\n",
    "df['Holliday_Package']=LE.fit_transform(df['Holliday_Package'])\n",
    "df.head()"
   ]
  },
  {
   "cell_type": "code",
   "execution_count": 111,
   "id": "14371d08",
   "metadata": {},
   "outputs": [],
   "source": [
    "X=df.drop('Holliday_Package',axis=1)\n",
    "Y=df.pop('Holliday_Package')"
   ]
  },
  {
   "cell_type": "code",
   "execution_count": 112,
   "id": "ba9f62ea",
   "metadata": {},
   "outputs": [],
   "source": [
    "X_train,X_test,Y_train,Y_test=train_test_split(X,Y,test_size=0.30,random_state=1)"
   ]
  },
  {
   "cell_type": "code",
   "execution_count": 113,
   "id": "ff9da29f",
   "metadata": {},
   "outputs": [],
   "source": [
    "grid={'penalty':['l1', 'l2', 'elasticnet', 'none'],\n",
    "      'solver':['newton-cg', 'lbfgs', 'liblinear', 'sag', 'saga'],\n",
    "      'tol':[0.0001,0.00001]}\n",
    "model=LogisticRegression(max_iter=100000,n_jobs=2)\n",
    "grid_search=GridSearchCV(estimator=model,param_grid=grid,cv=3,n_jobs=-1,scoring='f1')"
   ]
  },
  {
   "cell_type": "code",
   "execution_count": 114,
   "id": "63f030bc",
   "metadata": {},
   "outputs": [
    {
     "data": {
      "text/plain": [
       "GridSearchCV(cv=3, estimator=LogisticRegression(max_iter=100000, n_jobs=2),\n",
       "             n_jobs=-1,\n",
       "             param_grid={'penalty': ['l1', 'l2', 'elasticnet', 'none'],\n",
       "                         'solver': ['newton-cg', 'lbfgs', 'liblinear', 'sag',\n",
       "                                    'saga'],\n",
       "                         'tol': [0.0001, 1e-05]},\n",
       "             scoring='f1')"
      ]
     },
     "execution_count": 114,
     "metadata": {},
     "output_type": "execute_result"
    }
   ],
   "source": [
    "grid_search.fit(X_train,Y_train)"
   ]
  },
  {
   "cell_type": "code",
   "execution_count": 115,
   "id": "33c0caac",
   "metadata": {},
   "outputs": [
    {
     "name": "stdout",
     "output_type": "stream",
     "text": [
      "{'penalty': 'l2', 'solver': 'newton-cg', 'tol': 0.0001} \n",
      "\n",
      "LogisticRegression(max_iter=100000, n_jobs=2, solver='newton-cg')\n"
     ]
    }
   ],
   "source": [
    "print(grid_search.best_params_,'\\n')\n",
    "print(grid_search.best_estimator_)"
   ]
  },
  {
   "cell_type": "code",
   "execution_count": 116,
   "id": "ed5158fe",
   "metadata": {},
   "outputs": [],
   "source": [
    "best_model = grid_search.best_estimator_"
   ]
  },
  {
   "cell_type": "code",
   "execution_count": 117,
   "id": "f179afe9",
   "metadata": {},
   "outputs": [],
   "source": [
    "Y_train_predict=best_model.predict(X_train)\n",
    "Y_test_predict=best_model.predict(X_test)"
   ]
  },
  {
   "cell_type": "code",
   "execution_count": 119,
   "id": "5068bcac",
   "metadata": {},
   "outputs": [
    {
     "name": "stdout",
     "output_type": "stream",
     "text": [
      "0.7409595610472651\n"
     ]
    },
    {
     "data": {
      "text/plain": [
       "[<matplotlib.lines.Line2D at 0x28d7e14a610>]"
      ]
     },
     "execution_count": 119,
     "metadata": {},
     "output_type": "execute_result"
    },
    {
     "data": {
      "image/png": "[encoded data removed]",
      "text/plain": [
       "<Figure size 432x288 with 1 Axes>"
      ]
     },
     "metadata": {
      "needs_background": "light"
     },
     "output_type": "display_data"
    }
   ],
   "source": [
    "probs=best_model.predict_proba(X_train)\n",
    "probs=probs[:,1]\n",
    "auc=roc_auc_score(Y_train,probs)\n",
    "print(auc)\n",
    "fpr,tpr,thresholds=roc_curve(Y_train,probs)\n",
    "plt.plot([0,1],[0,1],linestyle='--')\n",
    "plt.plot(fpr,tpr)"
   ]
  },
  {
   "cell_type": "code",
   "execution_count": 120,
   "id": "b964ee88",
   "metadata": {},
   "outputs": [
    {
     "name": "stdout",
     "output_type": "stream",
     "text": [
      "0.7049218980253462\n"
     ]
    },
    {
     "data": {
      "text/plain": [
       "[<matplotlib.lines.Line2D at 0x28d7e186850>]"
      ]
     },
     "execution_count": 120,
     "metadata": {},
     "output_type": "execute_result"
    },
    {
     "data": {
      "image/png": "[encoded data removed]",
      "text/plain": [
       "<Figure size 432x288 with 1 Axes>"
      ]
     },
     "metadata": {
      "needs_background": "light"
     },
     "output_type": "display_data"
    }
   ],
   "source": [
    "probs=best_model.predict_proba(X_test)\n",
    "probs=probs[:,1]\n",
    "auc=roc_auc_score(Y_test,probs)\n",
    "print(auc)\n",
    "fpr,tpr,thresholds=roc_curve(Y_test,probs)\n",
    "plt.plot([0,1],[0,1],linestyle='--')\n",
    "plt.plot(fpr,tpr)"
   ]
  },
  {
   "cell_type": "code",
   "execution_count": 121,
   "id": "6ab05ada",
   "metadata": {},
   "outputs": [
    {
     "name": "stdout",
     "output_type": "stream",
     "text": [
      "              precision    recall  f1-score   support\n",
      "\n",
      "           0       0.67      0.77      0.72       326\n",
      "           1       0.68      0.56      0.62       284\n",
      "\n",
      "    accuracy                           0.67       610\n",
      "   macro avg       0.68      0.67      0.67       610\n",
      "weighted avg       0.67      0.67      0.67       610\n",
      "\n"
     ]
    }
   ],
   "source": [
    "print(classification_report(Y_train,Y_train_predict))"
   ]
  },
  {
   "cell_type": "code",
   "execution_count": 122,
   "id": "aea70d44",
   "metadata": {},
   "outputs": [
    {
     "data": {
      "text/plain": [
       "array([[251,  75],\n",
       "       [124, 160]], dtype=int64)"
      ]
     },
     "execution_count": 122,
     "metadata": {},
     "output_type": "execute_result"
    }
   ],
   "source": [
    "confusion_matrix(Y_train,Y_train_predict)"
   ]
  },
  {
   "cell_type": "code",
   "execution_count": 123,
   "id": "644bbdc9",
   "metadata": {},
   "outputs": [
    {
     "name": "stdout",
     "output_type": "stream",
     "text": [
      "              precision    recall  f1-score   support\n",
      "\n",
      "           0       0.67      0.70      0.69       145\n",
      "           1       0.61      0.57      0.59       117\n",
      "\n",
      "    accuracy                           0.65       262\n",
      "   macro avg       0.64      0.64      0.64       262\n",
      "weighted avg       0.64      0.65      0.64       262\n",
      "\n"
     ]
    }
   ],
   "source": [
    "print(classification_report(Y_test,Y_test_predict))"
   ]
  },
  {
   "cell_type": "code",
   "execution_count": 124,
   "id": "a4cdfcc4",
   "metadata": {},
   "outputs": [
    {
     "data": {
      "text/plain": [
       "array([[102,  43],\n",
       "       [ 50,  67]], dtype=int64)"
      ]
     },
     "execution_count": 124,
     "metadata": {},
     "output_type": "execute_result"
    }
   ],
   "source": [
    "confusion_matrix(Y_test,Y_test_predict)"
   ]
  },
  {
   "cell_type": "code",
   "execution_count": 125,
   "id": "196e3e17",
   "metadata": {},
   "outputs": [],
   "source": [
    "from sklearn.discriminant_analysis import LinearDiscriminantAnalysis"
   ]
  },
  {
   "cell_type": "code",
   "execution_count": 126,
   "id": "3c587452",
   "metadata": {},
   "outputs": [
    {
     "data": {
      "text/plain": [
       "LinearDiscriminantAnalysis()"
      ]
     },
     "execution_count": 126,
     "metadata": {},
     "output_type": "execute_result"
    }
   ],
   "source": [
    "clf=LinearDiscriminantAnalysis()\n",
    "model=clf.fit(X_train,Y_train)\n",
    "model"
   ]
  },
  {
   "cell_type": "code",
   "execution_count": 127,
   "id": "92224356",
   "metadata": {},
   "outputs": [
    {
     "name": "stdout",
     "output_type": "stream",
     "text": [
      "0.7394798237276419\n"
     ]
    },
    {
     "data": {
      "text/plain": [
       "[<matplotlib.lines.Line2D at 0x28d7e1e1400>]"
      ]
     },
     "execution_count": 127,
     "metadata": {},
     "output_type": "execute_result"
    },
    {
     "data": {
      "image/png": "[encoded data removed]",
      "text/plain": [
       "<Figure size 432x288 with 1 Axes>"
      ]
     },
     "metadata": {
      "needs_background": "light"
     },
     "output_type": "display_data"
    }
   ],
   "source": [
    "probs=model.predict_proba(X_train)\n",
    "probs=probs[:,1]\n",
    "auc=roc_auc_score(Y_train,probs)\n",
    "print(auc)\n",
    "fpr,tpr,thresholds=roc_curve(Y_train,probs)\n",
    "plt.plot([0,1],[0,1],linestyle='--')\n",
    "plt.plot(fpr,tpr)"
   ]
  },
  {
   "cell_type": "code",
   "execution_count": 128,
   "id": "7c150ecf",
   "metadata": {},
   "outputs": [
    {
     "name": "stdout",
     "output_type": "stream",
     "text": [
      "0.7029767167698201\n"
     ]
    },
    {
     "data": {
      "text/plain": [
       "[<matplotlib.lines.Line2D at 0x28d7e22df40>]"
      ]
     },
     "execution_count": 128,
     "metadata": {},
     "output_type": "execute_result"
    },
    {
     "data": {
      "image/png": "[encoded data removed]",
      "text/plain": [
       "<Figure size 432x288 with 1 Axes>"
      ]
     },
     "metadata": {
      "needs_background": "light"
     },
     "output_type": "display_data"
    }
   ],
   "source": [
    "probs=model.predict_proba(X_test)\n",
    "probs=probs[:,1]\n",
    "auc=roc_auc_score(Y_test,probs)\n",
    "print(auc)\n",
    "fpr,tpr,thresholds=roc_curve(Y_test,probs)\n",
    "plt.plot([0,1],[0,1],linestyle='--')\n",
    "plt.plot(fpr,tpr)"
   ]
  },
  {
   "cell_type": "code",
   "execution_count": 129,
   "id": "1ce23efa",
   "metadata": {},
   "outputs": [],
   "source": [
    "Y_train_predict=model.predict(X_train)\n",
    "Y_test_predict=model.predict(X_test)"
   ]
  },
  {
   "cell_type": "code",
   "execution_count": 130,
   "id": "bc69f3dd",
   "metadata": {},
   "outputs": [
    {
     "name": "stdout",
     "output_type": "stream",
     "text": [
      "              precision    recall  f1-score   support\n",
      "\n",
      "           0       0.67      0.78      0.72       326\n",
      "           1       0.69      0.56      0.61       284\n",
      "\n",
      "    accuracy                           0.68       610\n",
      "   macro avg       0.68      0.67      0.67       610\n",
      "weighted avg       0.68      0.68      0.67       610\n",
      "\n"
     ]
    }
   ],
   "source": [
    "print(classification_report(Y_train,Y_train_predict))"
   ]
  },
  {
   "cell_type": "code",
   "execution_count": 131,
   "id": "b3ca5a61",
   "metadata": {},
   "outputs": [
    {
     "name": "stdout",
     "output_type": "stream",
     "text": [
      "              precision    recall  f1-score   support\n",
      "\n",
      "           0       0.66      0.71      0.69       145\n",
      "           1       0.61      0.56      0.58       117\n",
      "\n",
      "    accuracy                           0.64       262\n",
      "   macro avg       0.64      0.63      0.63       262\n",
      "weighted avg       0.64      0.64      0.64       262\n",
      "\n"
     ]
    }
   ],
   "source": [
    "print(classification_report(Y_test,Y_test_predict))"
   ]
  },
  {
   "cell_type": "code",
   "execution_count": 132,
   "id": "926f055e",
   "metadata": {},
   "outputs": [
    {
     "data": {
      "text/plain": [
       "array([[254,  72],\n",
       "       [126, 158]], dtype=int64)"
      ]
     },
     "execution_count": 132,
     "metadata": {},
     "output_type": "execute_result"
    }
   ],
   "source": [
    "confusion_matrix(Y_train,Y_train_predict)"
   ]
  },
  {
   "cell_type": "code",
   "execution_count": 133,
   "id": "11b1a0fd",
   "metadata": {},
   "outputs": [
    {
     "data": {
      "text/plain": [
       "array([[103,  42],\n",
       "       [ 52,  65]], dtype=int64)"
      ]
     },
     "execution_count": 133,
     "metadata": {},
     "output_type": "execute_result"
    }
   ],
   "source": [
    "confusion_matrix(Y_test,Y_test_predict)"
   ]
  }
 ],
 "metadata": {
  "kernelspec": {
   "display_name": "Python 3",
   "language": "python",
   "name": "python3"
  },
  "language_info": {
   "codemirror_mode": {
    "name": "ipython",
    "version": 3
   },
   "file_extension": ".py",
   "mimetype": "text/x-python",
   "name": "python",
   "nbconvert_exporter": "python",
   "pygments_lexer": "ipython3",
   "version": "3.8.8"
  }
 },
 "nbformat": 4,
 "nbformat_minor": 5
}
